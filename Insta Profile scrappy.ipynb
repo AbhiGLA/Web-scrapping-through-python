{
 "cells": [
  {
   "cell_type": "code",
   "execution_count": 1,
   "metadata": {},
   "outputs": [],
   "source": [
    "from time import sleep\n",
    "import scrapy\n",
    "import pandas as pd\n",
    "from scrapy import Spider\n",
    "from selenium import webdriver\n",
    "from scrapy.selector import Selector\n",
    "from io import BytesIO\n",
    "from PIL import Image\n",
    "import requests"
   ]
  },
  {
   "cell_type": "code",
   "execution_count": 2,
   "metadata": {},
   "outputs": [],
   "source": [
    "imageID = []\n",
    "sl_no = []\n",
    "imageLikes = []"
   ]
  },
  {
   "cell_type": "code",
   "execution_count": 3,
   "metadata": {},
   "outputs": [
    {
     "name": "stdout",
     "output_type": "stream",
     "text": [
      "36\n"
     ]
    }
   ],
   "source": [
    "i = 0\n",
    "instaccountlink = \"https://instagram.com/Lamborghini\"\n",
    "instaaccountname = \"Lamborghini\"\n",
    "driver = webdriver.Chrome(\"driver/driver\")\n",
    "driver.get(instaccountlink)\n",
    "unique_urls = []\n",
    "while i<1:\n",
    "    i = i +1\n",
    "    sel = Selector(text=driver.page_source)\n",
    "    \n",
    "    url = sel.xpath('//div[@class=\"v1Nh3 kIKUG  _bz0w\"]/a/@href').extract()\n",
    "    for u in url:\n",
    "        if u not in unique_urls:\n",
    "            unique_urls.append(u)\n",
    "            \n",
    "    driver.execute_script(\"window.scrollTo(0, document.body.scrollHeight);\")\n",
    "    sleep(5)\n",
    "    sel = Selector(text=driver.page_source)\n",
    "    url = sel.xpath('//div[@class=\"v1Nh3 kIKUG  _bz0w\"]/a/@href').extract()\n",
    "    for u in url:\n",
    "        if u not in unique_urls:\n",
    "            unique_urls.append(u)\n",
    "driver.quit()\n",
    "print(len(unique_urls))"
   ]
  },
  {
   "cell_type": "code",
   "execution_count": 4,
   "metadata": {},
   "outputs": [
    {
     "data": {
      "text/plain": [
       "['/p/B3HyuGUjtaO/',\n",
       " '/p/B3FN5Wnjh-D/',\n",
       " '/p/B3Eya88DDqj/',\n",
       " '/p/B3CpGxZowuy/',\n",
       " '/p/B266Zxnn9_5/',\n",
       " '/p/B24WTevDQ--/',\n",
       " '/p/B21xI8JokwM/',\n",
       " '/p/B2zMU48jNKP/',\n",
       " '/p/B2wruuNFQdM/',\n",
       " '/p/B2uCwAUjW2c/',\n",
       " '/p/B2rd9hUDtP3/',\n",
       " '/p/B2o5NL5DZn8/',\n",
       " '/p/B2mUeZLjQSm/',\n",
       " '/p/B2judoGhB8k/',\n",
       " '/p/B2hOK2PDopQ/',\n",
       " '/p/B2eljGFBs68/',\n",
       " '/p/B2ZcYnvlX78/',\n",
       " '/p/B2W7OnGBhiM/',\n",
       " '/p/B2USxQVlUT0/',\n",
       " '/p/B2R3rLhlUdb/',\n",
       " '/p/B2RVROGhQfH/',\n",
       " '/p/B2PJN3gF7x4/',\n",
       " '/p/B2OYo0zIQp4/',\n",
       " '/p/B2MlE0yl_nI/',\n",
       " '/p/B2Ha4rJlmXk/',\n",
       " '/p/B2E5wF1lyDl/',\n",
       " '/p/B2CRMwGlD-s/',\n",
       " '/p/B1_seldFzpL/',\n",
       " '/p/B18sQw2ljpp/',\n",
       " '/p/B16m3IeIpbA/',\n",
       " '/p/B11ZPqIFhnc/',\n",
       " '/p/B1y0Ag2h81A/',\n",
       " '/p/B1wPojnl32I/',\n",
       " '/p/B1tq05cFnmu/',\n",
       " '/p/B1rGK0QF-eh/',\n",
       " '/p/B1oGCYgopvr/']"
      ]
     },
     "execution_count": 4,
     "metadata": {},
     "output_type": "execute_result"
    }
   ],
   "source": [
    "unique_urls"
   ]
  },
  {
   "cell_type": "code",
   "execution_count": null,
   "metadata": {},
   "outputs": [
    {
     "name": "stdout",
     "output_type": "stream",
     "text": [
      "https://instagram.fdel29-1.fna.fbcdn.net/vp/f06f283e748070fb6eb67e8d09f19636/5E2ABC45/t51.2885-15/fr/e15/s1080x1080/70650252_551880702217317_5084607239553486049_n.jpg?_nc_ht=instagram.fdel29-1.fna.fbcdn.net&_nc_cat=1\n",
      "source successful\n",
      "image opened successfully\n",
      "(1080, 1080) JPEG RGB\n",
      "path set successfully\n",
      "https://instagram.fdel29-1.fna.fbcdn.net/vp/0f52e999df4867b0116c78355940e874/5E16F1F3/t51.2885-15/fr/e15/s1080x1080/71099149_537721880330497_1619877556286247687_n.jpg?_nc_ht=instagram.fdel29-1.fna.fbcdn.net&_nc_cat=1\n",
      "source successful\n",
      "image opened successfully\n",
      "(1080, 1079) JPEG RGB\n",
      "path set successfully\n",
      "https://instagram.fdel29-1.fna.fbcdn.net/vp/8e4addabb8aced2b9da3b574f2d80175/5E24EA4A/t51.2885-15/fr/e15/s1080x1080/70493339_170400160802009_2189226004887853992_n.jpg?_nc_ht=instagram.fdel29-1.fna.fbcdn.net&_nc_cat=1\n",
      "source successful\n",
      "image opened successfully\n",
      "(1080, 1080) JPEG RGB\n",
      "path set successfully\n"
     ]
    }
   ],
   "source": [
    "# saving the images to specified directory\n",
    "driver = webdriver.Chrome('driver/driver')\n",
    "\n",
    "image_urls = []\n",
    "count = 0\n",
    "max_no_of_iteration=10\n",
    "for u in unique_urls:\n",
    "    try:\n",
    "        driver.get('http://instagram.com'+u)\n",
    "        sel = Selector(text=driver.page_source)\n",
    "        src= sel.xpath('//div/img/@src').extract()[0]\n",
    "        print(src)\n",
    "        r = requests.get(src)\n",
    "        print(\"source successful\")\n",
    "        image = Image.open(BytesIO(r.content))\n",
    "        print(\"image opened successfully\")\n",
    "        print(image.size, image.format, image.mode)\n",
    "        path = \"output/\"+instaaccountname+str(count)+\".\" + image.format\n",
    "        count += 1\n",
    "        print(\"path set successfully\")\n",
    "        q1=''\n",
    "        q2=''\n",
    "        \n",
    "        try:\n",
    "        \n",
    "            image.save(path, image.format)\n",
    "            q1 = instaaccountname+str(count)\n",
    "            q2 = sel.xpath('//span/span/text()').extract_first()\n",
    "            \n",
    "        except IOError:\n",
    "            \n",
    "            q1=''\n",
    "            q2=''\n",
    "            imageID.insert(len(imageID),q1)\n",
    "            imageLikes.insert(len(imageLikes),q2)\n",
    "            sl_no.insert(len(sl_no),str(count))\n",
    "            count = count + 1\n",
    "            if count > max_no_of_iteration:\n",
    "                driver.quit()\n",
    "                df = pd.DataFrame({'ImageID':imageID,'Sl_no':sl_no, 'ImageLikes':imageLikes})\n",
    "                fileName = instaaccountname+str('.csv')\n",
    "                df.to_csv(fileName, index=False)\n",
    "                break\n",
    "\n",
    "\n",
    "    except:\n",
    "        pass\n",
    "\n",
    "try:\n",
    "    driver.quit()\n",
    "except:\n",
    "    pass"
   ]
  },
  {
   "cell_type": "code",
   "execution_count": null,
   "metadata": {},
   "outputs": [],
   "source": []
  }
 ],
 "metadata": {
  "kernelspec": {
   "display_name": "Python 3",
   "language": "python",
   "name": "python3"
  },
  "language_info": {
   "codemirror_mode": {
    "name": "ipython",
    "version": 3
   },
   "file_extension": ".py",
   "mimetype": "text/x-python",
   "name": "python",
   "nbconvert_exporter": "python",
   "pygments_lexer": "ipython3",
   "version": "3.7.6"
  }
 },
 "nbformat": 4,
 "nbformat_minor": 2
}
